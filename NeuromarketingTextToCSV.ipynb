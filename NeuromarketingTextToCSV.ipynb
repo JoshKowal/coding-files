{
  "nbformat": 4,
  "nbformat_minor": 0,
  "metadata": {
    "colab": {
      "name": "NeuromarketingTextToCSV.ipynb",
      "provenance": [],
      "authorship_tag": "ABX9TyNiciYSKxBiS1fTqKLxsMf9",
      "include_colab_link": true
    },
    "kernelspec": {
      "name": "python3",
      "display_name": "Python 3"
    }
  },
  "cells": [
    {
      "cell_type": "markdown",
      "metadata": {
        "id": "view-in-github",
        "colab_type": "text"
      },
      "source": [
        "<a href=\"https://colab.research.google.com/github/JoshKowal/coding-files/blob/master/NeuromarketingTextToCSV.ipynb\" target=\"_parent\"><img src=\"https://colab.research.google.com/assets/colab-badge.svg\" alt=\"Open In Colab\"/></a>"
      ]
    },
    {
      "cell_type": "code",
      "metadata": {
        "id": "AONpX3ilgqFr",
        "colab_type": "code",
        "colab": {
          "base_uri": "https://localhost:8080/",
          "height": 34
        },
        "outputId": "02177aea-640d-4cf5-ff0c-b18b0894f486"
      },
      "source": [
        "import numpy as np\n",
        "import pandas as pd\n",
        "\n",
        "#I chose to mount my google drive for this notebook\n",
        "from google.colab import drive\n",
        "drive.mount('/content/drive')"
      ],
      "execution_count": 7,
      "outputs": [
        {
          "output_type": "stream",
          "text": [
            "Drive already mounted at /content/drive; to attempt to forcibly remount, call drive.mount(\"/content/drive\", force_remount=True).\n"
          ],
          "name": "stdout"
        }
      ]
    },
    {
      "cell_type": "code",
      "metadata": {
        "id": "Ev4poeXHg7My",
        "colab_type": "code",
        "colab": {}
      },
      "source": [
        "def parse_text_to_csv(filename):\n",
        "  \"\"\"\n",
        "  Given a filename of a text file, this parses the text file and returns a tuple\n",
        "  mapping the filename to the pandas DataFrame created from the text file \n",
        "  \"\"\"\n",
        "\n",
        "  #IMPORTANT NOTE: You will have to change the file path below in the read_csv\n",
        "  #function call depending on if you are using your own drive or a local file\n",
        "  #path on your computer\n",
        "  df = pd.read_csv('/content/drive/My Drive/DSCI400/NeuroMarketing/Data-EEG-25-users-Neuromarketing/25-users/' + filename,\n",
        "                   sep = ' ', header = None)\n",
        "  df.to_csv('/content/drive/My Drive/DSCI400/NeuroMarketing/Data-EEG-25-users-Neuromarketing/NeuroMarketing CSVs/' + filename[0:-4] + '.csv')"
      ],
      "execution_count": 0,
      "outputs": []
    },
    {
      "cell_type": "code",
      "metadata": {
        "id": "d71qB1ZiijAU",
        "colab_type": "code",
        "colab": {
          "base_uri": "https://localhost:8080/",
          "height": 34
        },
        "outputId": "700d6967-f959-4936-8a06-3dabbcde8271"
      },
      "source": [
        "import os\n",
        "\n",
        "#IMPORTANT NOTE: Change the file path, like mentioned above in the function\n",
        "list_of_files = os.listdir('/content/drive/My Drive/DSCI400/NeuroMarketing/Data-EEG-25-users-Neuromarketing/25-users/')\n",
        "for f in list_of_files:\n",
        "  parse_text_to_csv(f)\n",
        "print('Finished converting every txt file to a csv file')"
      ],
      "execution_count": 19,
      "outputs": [
        {
          "output_type": "stream",
          "text": [
            "Finished converting every txt file to a csv file\n"
          ],
          "name": "stdout"
        }
      ]
    }
  ]
}